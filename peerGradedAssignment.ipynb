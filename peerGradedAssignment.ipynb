{
 "cells": [
  {
   "cell_type": "markdown",
   "metadata": {
    "collapsed": true
   },
   "source": [
    "<h1>My Jupyter Notebook on IBM Watson Studio</h1>"
   ]
  },
  {
   "cell_type": "markdown",
   "metadata": {},
   "source": [
    "<h2><b>Christopher Joyce</b></h2>"
   ]
  },
  {
   "cell_type": "markdown",
   "metadata": {},
   "source": [
    "Desired Occupation: Chief Operating Officer"
   ]
  },
  {
   "cell_type": "markdown",
   "metadata": {},
   "source": [
    "<i>Why Data Science?: Over the course of my career I have been able to identify behavioral and operational trends in different industries and operations. These trends have helped me ideate solutions and tell stories to my peers and seniors in order to bring about change in organizations. With Data Science and the different disciplines it is made from, I look to tell better, more relatable and readable stories through the gathering, surveying, cleaning, and modeling of big data.</i>"
   ]
  },
  {
   "cell_type": "markdown",
   "metadata": {},
   "source": [
    "<h3>The below code takes two distinct sets of pets (as strings), uses those as variables in a function that combines the two sets into a third set, and prints the combined, unique set of pets.</h3>"
   ]
  },
  {
   "cell_type": "code",
   "execution_count": 2,
   "metadata": {},
   "outputs": [
    {
     "name": "stdout",
     "output_type": "stream",
     "text": [
      "Look at the house full of pets!\n",
      "{'Cat', 'Snake', 'Dog', 'Hamster', 'Chinchilla', 'Ferret'}\n"
     ]
    }
   ],
   "source": [
    "house_one_pets = {\"Cat\", \"Dog\", \"Ferret\", \"Hamster\"}\n",
    "house_two_pets = {\"Chinchilla\", \"Cat\", \"Dog\", \"Snake\"}\n",
    "\n",
    "def combine_house_pets(house1,house2):\n",
    "    combined_house_pets = house1.union(house2)\n",
    "    print(\"Look at the house full of pets!\")\n",
    "    print(combined_house_pets)\n",
    "    \n",
    "combine_house_pets(house_one_pets,house_two_pets)"
   ]
  },
  {
   "cell_type": "markdown",
   "metadata": {},
   "source": [
    "<ul>\n",
    "  <li><a href=\"https://en.wikipedia.org/wiki/Cat\">Cat</a></li>\n",
    "  <li><a href=\"https://en.wikipedia.org/wiki/Dog\">Dog</a></li>\n",
    "  <li><a href=\"https://en.wikipedia.org/wiki/Ferret\">Ferret</a></li>\n",
    "  <li><a href=\"https://en.wikipedia.org/wiki/Hamster\">Hamster</a></li>\n",
    "  <li><a href=\"https://en.wikipedia.org/wiki/Chinchilla\">Chinchilla</a></li>\n",
    "  <li><s><a href=\"https://en.wikipedia.org/wiki/Snake\">Snake</a></s></li>\n",
    "</ul>"
   ]
  },
  {
   "cell_type": "code",
   "execution_count": null,
   "metadata": {},
   "outputs": [],
   "source": []
  }
 ],
 "metadata": {
  "kernelspec": {
   "display_name": "Python 3.9",
   "language": "python",
   "name": "python3"
  },
  "language_info": {
   "codemirror_mode": {
    "name": "ipython",
    "version": 3
   },
   "file_extension": ".py",
   "mimetype": "text/x-python",
   "name": "python",
   "nbconvert_exporter": "python",
   "pygments_lexer": "ipython3",
   "version": "3.9.12"
  }
 },
 "nbformat": 4,
 "nbformat_minor": 1
}
